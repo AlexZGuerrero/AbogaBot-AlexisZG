{
 "cells": [
  {
   "cell_type": "markdown",
   "metadata": {},
   "source": [
    "Requisitos"
   ]
  },
  {
   "cell_type": "markdown",
   "metadata": {},
   "source": [
    "Descripción de aplicación\n",
    "Caso: Abogabot Descripción:\n",
    "\n",
    "Es un despacho de abogados que quiere automatizar las demandas de sus clientes, esto lo harán a traves de una página web llenando un formulario.\n",
    "\n",
    "Al momento de llenar el formulario se manda al proceso de pago para finalizar la transacción.\n",
    "\n",
    "Para dar seguimiento a su demanda, el cliente crea una cuenta en la plataforma y verá el seguimiento de cada una de las actualizaciones del proceso legal.\n",
    "\n",
    "El administrador del sitio recbe la notificación de una nueva demanda y con los datos llenados del formulario se crea automaticamente el documento legal en formato word para empezar el proceso.\n",
    "\n",
    "El administrador recibe el pago y debe de ser capaz de verlo en un dashboard para ver la cantidad de ingresos recibidos.\n",
    "\n",
    "El administrador actualiza el proceso de la demanda y agrega comentarios en cada paso del proceso.\n",
    "\n",
    "Al usuario le llegan correos de notificación para saber el avance de su proceso.\n",
    "\n",
    "La página debe de ser responsive para poderla ver desde el celular.\n",
    "\n",
    "La preferencia de colores del cliente es azul marino y blanco, pero acepta propuestas."
   ]
  },
  {
   "cell_type": "markdown",
   "metadata": {},
   "source": [
    "-Interfaz para usuario y para administradores\n",
    "\n",
    "-Sistema de pagos\n",
    "\n",
    "-Generador automatico de documento de texto\n",
    "\n",
    "-Almacenamiento de datos \n",
    "\n",
    "-Envío de correo electronico\n"
   ]
  },
  {
   "cell_type": "markdown",
   "metadata": {},
   "source": []
  }
 ],
 "metadata": {
  "language_info": {
   "name": "python"
  },
  "orig_nbformat": 4
 },
 "nbformat": 4,
 "nbformat_minor": 2
}
